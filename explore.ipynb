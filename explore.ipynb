{
 "cells": [
  {
   "cell_type": "code",
   "execution_count": 1,
   "metadata": {
    "collapsed": true
   },
   "outputs": [],
   "source": [
    "from copy import deepcopy\n",
    "from mlp.layers import MLP, Linear, Sigmoid, Softmax #import required layer types\n",
    "from mlp.layers import * \n",
    "from mlp.optimisers import SGDOptimiser #import the optimiser\n",
    "\n",
    "from mlp.costs import CECost, MSECost #import the cost we want to use for optimisation\n",
    "from mlp.schedulers import LearningRateFixed\n",
    "import numpy\n",
    "import logging\n",
    "from mlp.dataset import *\n",
    "from base import *\n",
    "from itertools import chain, combinations\n",
    "from collections import OrderedDict"
   ]
  },
  {
   "cell_type": "code",
   "execution_count": 2,
   "metadata": {
    "collapsed": false
   },
   "outputs": [
    {
     "name": "stdout",
     "output_type": "stream",
     "text": [
      "(6840, 45, 125) (6840,)\n",
      "(6840, 125)\n",
      "(1140, 45, 125) (1140,)\n",
      "(1140, 125)\n",
      "(1140, 45, 125) (1140,)\n",
      "(1140, 125)\n",
      "(6840, 45, 125) (6840,)\n",
      "(6840, 125)\n",
      "(1140, 45, 125) (1140,)\n",
      "(1140, 125)\n",
      "(1140, 45, 125) (1140,)\n",
      "(1140, 125)\n"
     ]
    }
   ],
   "source": [
    "train_dp = MACLDataProvider(dset='train', batch_size=100,\n",
    "                            max_num_batches=-10, randomize=True,name='RLAx',\n",
    "                            conv_reshape=False)\n",
    "valid_dp = MACLDataProvider(dset='valid', batch_size=1140,\n",
    "                            max_num_batches=1, randomize=False,name='RLAx',\n",
    "                            conv_reshape=False)\n",
    "\n",
    "\n",
    "test_dp = MACLDataProvider(dset='test', batch_size=1140,\n",
    "                           max_num_batches=1, randomize=False,name='RLAx',\n",
    "                           conv_reshape=False)\n",
    "\n",
    "\n",
    "train_dpf = MACLDataProvider(dset='train', batch_size=100,\n",
    "                            max_num_batches=-10, randomize=True,name='RLAx',\n",
    "                            conv_reshape=False,fft=True)\n",
    "valid_dpf = MACLDataProvider(dset='valid', batch_size=1140,\n",
    "                            max_num_batches=1, randomize=False,name='RLAx',\n",
    "                            conv_reshape=False,fft=True)\n",
    "\n",
    "\n",
    "test_dpf = MACLDataProvider(dset='test', batch_size=1140,\n",
    "                           max_num_batches=1, randomize=False,name='RLAx',\n",
    "                           conv_reshape=False,fft=True)\n"
   ]
  },
  {
   "cell_type": "code",
   "execution_count": 32,
   "metadata": {
    "collapsed": false
   },
   "outputs": [],
   "source": [
    "train_dpf.reset()\n",
    "train_dp.reset()\n",
    "# 1800 2520 (10, 12)\n",
    "# 0 500     (14, 13)\n",
    "item1 = train_dp.x[1800]\n",
    "item1f = train_dpf.x[1800]\n",
    "\n",
    "item2 = train_dp.x[2520]\n",
    "item2f = train_dpf.x[2520]"
   ]
  },
  {
   "cell_type": "code",
   "execution_count": 33,
   "metadata": {
    "collapsed": false
   },
   "outputs": [
    {
     "data": {
      "text/plain": [
       "[<matplotlib.lines.Line2D at 0xc689f90>]"
      ]
     },
     "execution_count": 33,
     "metadata": {},
     "output_type": "execute_result"
    }
   ],
   "source": [
    "import matplotlib.pyplot as plt\n",
    "# x = item1\n",
    "\n",
    "\n",
    "f, ((ax1, ax2), (ax3, ax4)) = plt.subplots(2, 2, sharey='col')\n",
    "ax1.plot(item1)\n",
    "# ax1.set_title('Sharing x per column, y per row')\n",
    "ax2.plot(item1f)\n",
    "ax3.plot(item2, color='r')\n",
    "ax4.plot(item2f, color='r')"
   ]
  },
  {
   "cell_type": "code",
   "execution_count": 34,
   "metadata": {
    "collapsed": true
   },
   "outputs": [],
   "source": [
    "plt.show()"
   ]
  },
  {
   "cell_type": "code",
   "execution_count": 31,
   "metadata": {
    "collapsed": false
   },
   "outputs": [
    {
     "name": "stdout",
     "output_type": "stream",
     "text": [
      "1800 2520\n"
     ]
    }
   ],
   "source": [
    "train_dp.reset()\n",
    "t = train_dp.t\n",
    "print list(t).index(9), list(t).index(11)"
   ]
  },
  {
   "cell_type": "code",
   "execution_count": null,
   "metadata": {
    "collapsed": true
   },
   "outputs": [],
   "source": []
  }
 ],
 "metadata": {
  "kernelspec": {
   "display_name": "Python 2",
   "language": "python",
   "name": "python2"
  },
  "language_info": {
   "codemirror_mode": {
    "name": "ipython",
    "version": 2
   },
   "file_extension": ".py",
   "mimetype": "text/x-python",
   "name": "python",
   "nbconvert_exporter": "python",
   "pygments_lexer": "ipython2",
   "version": "2.7.5+"
  }
 },
 "nbformat": 4,
 "nbformat_minor": 0
}
