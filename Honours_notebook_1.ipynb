{
 "cells": [
  {
   "cell_type": "markdown",
   "metadata": {},
   "source": [
    "## Monday Meeting \n",
    "\n",
    "\n",
    "I have adapted the MLP dataprovider to the accelerometer data set to be used. I found the NN coded by Pawel extremely well documented and useful and thus I have picked it over Lasagne, tensorflow or the horrendous scikit learn (on which I wasted a whole day pointlessly).\n"
   ]
  },
  {
   "cell_type": "code",
   "execution_count": 11,
   "metadata": {
    "collapsed": false
   },
   "outputs": [
    {
     "name": "stderr",
     "output_type": "stream",
     "text": [
      "INFO:root:Initialising data providers...\n"
     ]
    },
    {
     "name": "stdout",
     "output_type": "stream",
     "text": [
      "(7296, 500) (7296,)\n",
      "(1824, 500) (1824,)\n"
     ]
    }
   ],
   "source": [
    "import numpy\n",
    "import logging\n",
    "from mlp.dataset import *\n",
    "\n",
    "logger = logging.getLogger()\n",
    "logger.setLevel(logging.INFO)\n",
    "logger.info('Initialising data providers...')\n",
    "\n",
    "train_dp = ACLDataProvider(dset='train', batch_size=100, max_num_batches=-10, randomize=True)\n",
    "valid_dp = ACLDataProvider(dset='valid', batch_size=1824, max_num_batches=1, randomize=False)"
   ]
  },
  {
   "cell_type": "code",
   "execution_count": 17,
   "metadata": {
    "collapsed": false,
    "scrolled": true
   },
   "outputs": [
    {
     "name": "stderr",
     "output_type": "stream",
     "text": [
      "INFO:root:Training started...\n",
      "INFO:mlp.optimisers:Epoch 0: Training cost (ce) for initial model is 3.373. Accuracy is 3.44%\n",
      "INFO:mlp.optimisers:Epoch 0: Validation cost (ce) for initial model is 3.400. Accuracy is 3.18%\n",
      "INFO:mlp.optimisers:Epoch 1: Training cost (ce) is 5.476. Accuracy is 41.90%\n",
      "INFO:mlp.optimisers:Epoch 1: Validation cost (ce) is 2.584. Accuracy is 47.09%\n",
      "INFO:mlp.optimisers:Epoch 1: Took 1 seconds. Training speed 12002 pps. Validation speed 30417 pps.\n",
      "INFO:mlp.optimisers:Epoch 2: Training cost (ce) is 1.744. Accuracy is 65.03%\n",
      "INFO:mlp.optimisers:Epoch 2: Validation cost (ce) is 0.723. Accuracy is 78.29%\n",
      "INFO:mlp.optimisers:Epoch 2: Took 1 seconds. Training speed 10436 pps. Validation speed 30417 pps.\n",
      "INFO:mlp.optimisers:Epoch 3: Training cost (ce) is 1.147. Accuracy is 73.22%\n",
      "INFO:mlp.optimisers:Epoch 3: Validation cost (ce) is 0.919. Accuracy is 75.82%\n",
      "INFO:mlp.optimisers:Epoch 3: Took 1 seconds. Training speed 12002 pps. Validation speed 30417 pps.\n",
      "INFO:mlp.optimisers:Epoch 4: Training cost (ce) is 0.751. Accuracy is 79.53%\n",
      "INFO:mlp.optimisers:Epoch 4: Validation cost (ce) is 0.574. Accuracy is 79.11%\n",
      "INFO:mlp.optimisers:Epoch 4: Took 1 seconds. Training speed 11805 pps. Validation speed 30417 pps.\n",
      "INFO:mlp.optimisers:Epoch 5: Training cost (ce) is 0.692. Accuracy is 81.90%\n",
      "INFO:mlp.optimisers:Epoch 5: Validation cost (ce) is 0.545. Accuracy is 82.79%\n",
      "INFO:mlp.optimisers:Epoch 5: Took 1 seconds. Training speed 10748 pps. Validation speed 22813 pps.\n",
      "INFO:mlp.optimisers:Epoch 6: Training cost (ce) is 0.467. Accuracy is 85.46%\n",
      "INFO:mlp.optimisers:Epoch 6: Validation cost (ce) is 1.215. Accuracy is 72.15%\n",
      "INFO:mlp.optimisers:Epoch 6: Took 1 seconds. Training speed 11252 pps. Validation speed 30417 pps.\n",
      "INFO:mlp.optimisers:Epoch 7: Training cost (ce) is 0.447. Accuracy is 86.65%\n",
      "INFO:mlp.optimisers:Epoch 7: Validation cost (ce) is 0.901. Accuracy is 78.51%\n",
      "INFO:mlp.optimisers:Epoch 7: Took 1 seconds. Training speed 12002 pps. Validation speed 30417 pps.\n",
      "INFO:mlp.optimisers:Epoch 8: Training cost (ce) is 0.406. Accuracy is 88.04%\n",
      "INFO:mlp.optimisers:Epoch 8: Validation cost (ce) is 0.498. Accuracy is 83.50%\n",
      "INFO:mlp.optimisers:Epoch 8: Took 1 seconds. Training speed 11805 pps. Validation speed 36500 pps.\n",
      "INFO:mlp.optimisers:Epoch 9: Training cost (ce) is 0.318. Accuracy is 89.76%\n",
      "INFO:mlp.optimisers:Epoch 9: Validation cost (ce) is 0.608. Accuracy is 81.09%\n",
      "INFO:mlp.optimisers:Epoch 9: Took 1 seconds. Training speed 10001 pps. Validation speed 30417 pps.\n",
      "INFO:mlp.optimisers:Epoch 10: Training cost (ce) is 0.279. Accuracy is 91.31%\n",
      "INFO:mlp.optimisers:Epoch 10: Validation cost (ce) is 0.409. Accuracy is 86.46%\n",
      "INFO:mlp.optimisers:Epoch 10: Took 1 seconds. Training speed 11805 pps. Validation speed 30417 pps.\n",
      "INFO:mlp.optimisers:Epoch 11: Training cost (ce) is 0.231. Accuracy is 93.04%\n",
      "INFO:mlp.optimisers:Epoch 11: Validation cost (ce) is 0.643. Accuracy is 82.68%\n",
      "INFO:mlp.optimisers:Epoch 11: Took 1 seconds. Training speed 12002 pps. Validation speed 30417 pps.\n",
      "INFO:mlp.optimisers:Epoch 12: Training cost (ce) is 0.185. Accuracy is 94.54%\n",
      "INFO:mlp.optimisers:Epoch 12: Validation cost (ce) is 0.424. Accuracy is 84.81%\n",
      "INFO:mlp.optimisers:Epoch 12: Took 1 seconds. Training speed 11805 pps. Validation speed 30417 pps.\n",
      "INFO:mlp.optimisers:Epoch 13: Training cost (ce) is 0.176. Accuracy is 95.18%\n",
      "INFO:mlp.optimisers:Epoch 13: Validation cost (ce) is 0.405. Accuracy is 85.64%\n",
      "INFO:mlp.optimisers:Epoch 13: Took 1 seconds. Training speed 9352 pps. Validation speed 30417 pps.\n",
      "INFO:mlp.optimisers:Epoch 14: Training cost (ce) is 0.151. Accuracy is 95.96%\n",
      "INFO:mlp.optimisers:Epoch 14: Validation cost (ce) is 0.775. Accuracy is 84.21%\n",
      "INFO:mlp.optimisers:Epoch 14: Took 1 seconds. Training speed 12002 pps. Validation speed 30417 pps.\n",
      "INFO:mlp.optimisers:Epoch 15: Training cost (ce) is 0.146. Accuracy is 96.38%\n",
      "INFO:mlp.optimisers:Epoch 15: Validation cost (ce) is 0.422. Accuracy is 85.14%\n",
      "INFO:mlp.optimisers:Epoch 15: Took 1 seconds. Training speed 12002 pps. Validation speed 30417 pps.\n",
      "INFO:mlp.optimisers:Epoch 16: Training cost (ce) is 0.111. Accuracy is 97.38%\n",
      "INFO:mlp.optimisers:Epoch 16: Validation cost (ce) is 0.410. Accuracy is 87.06%\n",
      "INFO:mlp.optimisers:Epoch 16: Took 1 seconds. Training speed 10911 pps. Validation speed 22813 pps.\n",
      "INFO:mlp.optimisers:Epoch 17: Training cost (ce) is 0.105. Accuracy is 97.93%\n",
      "INFO:mlp.optimisers:Epoch 17: Validation cost (ce) is 0.391. Accuracy is 86.13%\n",
      "INFO:mlp.optimisers:Epoch 17: Took 1 seconds. Training speed 11078 pps. Validation speed 30417 pps.\n",
      "INFO:mlp.optimisers:Epoch 18: Training cost (ce) is 0.087. Accuracy is 98.51%\n",
      "INFO:mlp.optimisers:Epoch 18: Validation cost (ce) is 0.346. Accuracy is 88.16%\n",
      "INFO:mlp.optimisers:Epoch 18: Took 1 seconds. Training speed 12002 pps. Validation speed 30417 pps.\n",
      "INFO:mlp.optimisers:Epoch 19: Training cost (ce) is 0.081. Accuracy is 98.69%\n",
      "INFO:mlp.optimisers:Epoch 19: Validation cost (ce) is 0.350. Accuracy is 87.83%\n",
      "INFO:mlp.optimisers:Epoch 19: Took 1 seconds. Training speed 11805 pps. Validation speed 30417 pps.\n",
      "INFO:mlp.optimisers:Epoch 20: Training cost (ce) is 0.078. Accuracy is 98.72%\n",
      "INFO:mlp.optimisers:Epoch 20: Validation cost (ce) is 0.347. Accuracy is 87.50%\n",
      "INFO:mlp.optimisers:Epoch 20: Took 1 seconds. Training speed 12002 pps. Validation speed 30417 pps.\n",
      "INFO:mlp.optimisers:Epoch 21: Training cost (ce) is 0.069. Accuracy is 99.04%\n",
      "INFO:mlp.optimisers:Epoch 21: Validation cost (ce) is 0.339. Accuracy is 88.76%\n",
      "INFO:mlp.optimisers:Epoch 21: Took 1 seconds. Training speed 10001 pps. Validation speed 30417 pps.\n",
      "INFO:mlp.optimisers:Epoch 22: Training cost (ce) is 0.067. Accuracy is 99.10%\n",
      "INFO:mlp.optimisers:Epoch 22: Validation cost (ce) is 0.341. Accuracy is 88.43%\n",
      "INFO:mlp.optimisers:Epoch 22: Took 1 seconds. Training speed 12002 pps. Validation speed 30417 pps.\n",
      "INFO:mlp.optimisers:Epoch 23: Training cost (ce) is 0.063. Accuracy is 99.15%\n",
      "INFO:mlp.optimisers:Epoch 23: Validation cost (ce) is 0.331. Accuracy is 88.54%\n",
      "INFO:mlp.optimisers:Epoch 23: Took 1 seconds. Training speed 11805 pps. Validation speed 30417 pps.\n",
      "INFO:mlp.optimisers:Epoch 24: Training cost (ce) is 0.054. Accuracy is 99.49%\n",
      "INFO:mlp.optimisers:Epoch 24: Validation cost (ce) is 0.341. Accuracy is 88.60%\n",
      "INFO:mlp.optimisers:Epoch 24: Took 1 seconds. Training speed 10001 pps. Validation speed 30417 pps.\n",
      "INFO:mlp.optimisers:Epoch 25: Training cost (ce) is 0.056. Accuracy is 99.28%\n",
      "INFO:mlp.optimisers:Epoch 25: Validation cost (ce) is 0.341. Accuracy is 88.65%\n",
      "INFO:mlp.optimisers:Epoch 25: Took 1 seconds. Training speed 11805 pps. Validation speed 30417 pps.\n",
      "INFO:mlp.optimisers:Epoch 26: Training cost (ce) is 0.048. Accuracy is 99.49%\n",
      "INFO:mlp.optimisers:Epoch 26: Validation cost (ce) is 0.341. Accuracy is 87.88%\n",
      "INFO:mlp.optimisers:Epoch 26: Took 1 seconds. Training speed 12002 pps. Validation speed 26071 pps.\n",
      "INFO:mlp.optimisers:Epoch 27: Training cost (ce) is 0.047. Accuracy is 99.50%\n",
      "INFO:mlp.optimisers:Epoch 27: Validation cost (ce) is 0.338. Accuracy is 88.54%\n",
      "INFO:mlp.optimisers:Epoch 27: Took 1 seconds. Training speed 10436 pps. Validation speed 30417 pps.\n",
      "INFO:mlp.optimisers:Epoch 28: Training cost (ce) is 0.045. Accuracy is 99.47%\n",
      "INFO:mlp.optimisers:Epoch 28: Validation cost (ce) is 0.349. Accuracy is 88.60%\n",
      "INFO:mlp.optimisers:Epoch 28: Took 1 seconds. Training speed 12002 pps. Validation speed 30417 pps.\n",
      "INFO:mlp.optimisers:Epoch 29: Training cost (ce) is 0.042. Accuracy is 99.56%\n",
      "INFO:mlp.optimisers:Epoch 29: Validation cost (ce) is 0.359. Accuracy is 88.05%\n",
      "INFO:mlp.optimisers:Epoch 29: Took 1 seconds. Training speed 11805 pps. Validation speed 30417 pps.\n",
      "INFO:mlp.optimisers:Epoch 30: Training cost (ce) is 0.039. Accuracy is 99.60%\n",
      "INFO:mlp.optimisers:Epoch 30: Validation cost (ce) is 0.342. Accuracy is 88.71%\n",
      "INFO:mlp.optimisers:Epoch 30: Took 1 seconds. Training speed 9864 pps. Validation speed 30417 pps.\n",
      "INFO:root:Testing the model on test set:\n",
      "INFO:root:MNIST test set accuracy is 88.71 %, cost (ce) is 0.342\n"
     ]
    }
   ],
   "source": [
    "#Baseline experiment\n",
    "from copy import deepcopy\n",
    "from mlp.layers import MLP, Linear, Sigmoid, Softmax #import required layer types\n",
    "from mlp.optimisers import SGDOptimiser #import the optimiser\n",
    "\n",
    "from mlp.costs import CECost #import the cost we want to use for optimisation\n",
    "from mlp.schedulers import LearningRateFixed\n",
    "\n",
    "logger = logging.getLogger()\n",
    "logger.setLevel(logging.INFO)\n",
    "rng = numpy.random.RandomState([2015,10,10])\n",
    "\n",
    "#some hyper-parameters\n",
    "nhid = 100\n",
    "learning_rate = 0.5\n",
    "max_epochs = 30\n",
    "cost = CECost()\n",
    "    \n",
    "stats = list()\n",
    "\n",
    "test_dp = deepcopy(valid_dp)\n",
    "train_dp.reset()\n",
    "valid_dp.reset()\n",
    "test_dp.reset()\n",
    "\n",
    "#define the model\n",
    "model = MLP(cost=cost)\n",
    "model.add_layer(Sigmoid(idim=500, odim=500, irange=1.6, rng=rng))\n",
    "model.add_layer(Softmax(idim=500, odim=19, rng=rng))\n",
    "\n",
    "# define the optimiser, here stochasitc gradient descent\n",
    "# with fixed learning rate and max_epochs\n",
    "lr_scheduler = LearningRateFixed(learning_rate=learning_rate, max_epochs=max_epochs)\n",
    "optimiser = SGDOptimiser(lr_scheduler=lr_scheduler)\n",
    "\n",
    "logger.info('Training started...')\n",
    "tr_stats, valid_stats = optimiser.train(model, train_dp, valid_dp)\n",
    "\n",
    "logger.info('Testing the model on test set:')\n",
    "\n",
    "tst_cost, tst_accuracy = optimiser.validate(model,test_dp )\n",
    "logger.info('MNIST test set accuracy is %.2f %%, cost (%s) is %.3f'%(tst_accuracy*100., cost.get_name(), tst_cost))\n",
    "\n"
   ]
  },
  {
   "cell_type": "code",
   "execution_count": null,
   "metadata": {
    "collapsed": true
   },
   "outputs": [],
   "source": []
  }
 ],
 "metadata": {
  "kernelspec": {
   "display_name": "Python 2",
   "language": "python",
   "name": "python2"
  },
  "language_info": {
   "codemirror_mode": {
    "name": "ipython",
    "version": 2
   },
   "file_extension": ".py",
   "mimetype": "text/x-python",
   "name": "python",
   "nbconvert_exporter": "python",
   "pygments_lexer": "ipython2",
   "version": "2.7.5"
  }
 },
 "nbformat": 4,
 "nbformat_minor": 0
}
