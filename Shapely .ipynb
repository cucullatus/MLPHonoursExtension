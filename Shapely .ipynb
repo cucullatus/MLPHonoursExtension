{
 "cells": [
  {
   "cell_type": "code",
   "execution_count": 20,
   "metadata": {
    "collapsed": false
   },
   "outputs": [],
   "source": [
    "from copy import deepcopy\n",
    "from mlp.layers import MLP, Linear, Sigmoid, Softmax #import required layer types\n",
    "from mlp.layers import * \n",
    "from mlp.optimisers import SGDOptimiser #import the optimiser\n",
    "\n",
    "from mlp.costs import CECost, MSECost #import the cost we want to use for optimisation\n",
    "from mlp.schedulers import LearningRateFixed\n",
    "import numpy\n",
    "import logging\n",
    "from mlp.dataset import *\n",
    "from base import *\n",
    "from itertools import chain, combinations\n",
    "from collections import OrderedDict"
   ]
  },
  {
   "cell_type": "code",
   "execution_count": 21,
   "metadata": {
    "collapsed": true
   },
   "outputs": [],
   "source": [
    "def powerset(iterable):\n",
    "    s = list(iterable)\n",
    "    return list(chain.from_iterable(combinations(s, r) for r in range(len(s)+1)))"
   ]
  },
  {
   "cell_type": "code",
   "execution_count": 33,
   "metadata": {
    "collapsed": false
   },
   "outputs": [
    {
     "name": "stdout",
     "output_type": "stream",
     "text": [
      "['RLAx', 'LLAx', 'RHAx', 'LHAx', ['RLAx', 'LLAx'], ['RLAx', 'RHAx'], ['RLAx', 'LHAx'], ['LLAx', 'RHAx'], ['LLAx', 'LHAx'], ['RHAx', 'LHAx'], ['RLAx', 'LLAx', 'RHAx'], ['RLAx', 'LLAx', 'LHAx'], ['RLAx', 'RHAx', 'LHAx'], ['LLAx', 'RHAx', 'LHAx'], ['RLAx', 'LLAx', 'RHAx', 'LHAx']] 15\n"
     ]
    }
   ],
   "source": [
    "devices = ['RLAx', 'LLAx', 'RHAx', 'LHAx']\n",
    "p =map(lambda x: list(x) if len(x) > 1 else list(x)[0], filter(lambda x: len(x) >0 ,powerset(devices)))\n",
    "#p.pop(0)\n",
    "print p, len(p)"
   ]
  },
  {
   "cell_type": "code",
   "execution_count": 40,
   "metadata": {
    "collapsed": false
   },
   "outputs": [
    {
     "name": "stdout",
     "output_type": "stream",
     "text": [
      "(6840, 45, 125) (6840,)\n",
      "(6840, 125)\n",
      "(1140, 45, 125) (1140,)\n",
      "(1140, 125)\n",
      "RLAx x\n",
      "RLAx x\n",
      "(6840, 45, 125) (6840,)\n",
      "(6840, 125)\n",
      "(1140, 45, 125) (1140,)\n",
      "(1140, 125)\n",
      "LLAx x\n",
      "LLAx x\n",
      "(6840, 45, 125) (6840,)\n",
      "(6840, 125)\n",
      "(1140, 45, 125) (1140,)\n",
      "(1140, 125)\n",
      "RHAx x\n",
      "RHAx x\n",
      "(6840, 45, 125) (6840,)\n",
      "(6840, 125)\n",
      "(1140, 45, 125) (1140,)\n",
      "(1140, 125)\n",
      "LHAx x\n",
      "LHAx x\n",
      "(6840, 45, 125) (6840,)\n",
      "shape final:  (6840, 250)\n",
      "(6840, 250)\n",
      "(1140, 45, 125) (1140,)\n",
      "shape final:  (1140, 250)\n",
      "(1140, 250)\n",
      "['RLAx', 'LLAx'] x\n",
      "['RLAx', 'LLAx'] x\n",
      "(6840, 45, 125) (6840,)\n",
      "shape final:  (6840, 250)\n",
      "(6840, 250)\n",
      "(1140, 45, 125) (1140,)\n",
      "shape final:  (1140, 250)\n",
      "(1140, 250)\n",
      "['RLAx', 'RHAx'] x\n",
      "['RLAx', 'RHAx'] x\n",
      "(6840, 45, 125) (6840,)\n",
      "shape final:  (6840, 250)\n",
      "(6840, 250)\n",
      "(1140, 45, 125) (1140,)\n",
      "shape final:  (1140, 250)\n",
      "(1140, 250)\n",
      "['RLAx', 'LHAx'] x\n",
      "['RLAx', 'LHAx'] x\n",
      "(6840, 45, 125) (6840,)\n",
      "shape final:  (6840, 250)\n",
      "(6840, 250)\n",
      "(1140, 45, 125) (1140,)\n",
      "shape final:  (1140, 250)\n",
      "(1140, 250)\n",
      "['LLAx', 'RHAx'] x\n",
      "['LLAx', 'RHAx'] x\n",
      "(6840, 45, 125) (6840,)\n",
      "shape final:  (6840, 250)\n",
      "(6840, 250)\n",
      "(1140, 45, 125) (1140,)\n",
      "shape final:  (1140, 250)\n",
      "(1140, 250)\n",
      "['LLAx', 'LHAx'] x\n",
      "['LLAx', 'LHAx'] x\n",
      "(6840, 45, 125) (6840,)\n",
      "shape final:  (6840, 250)\n",
      "(6840, 250)\n",
      "(1140, 45, 125) (1140,)\n",
      "shape final:  (1140, 250)\n",
      "(1140, 250)\n",
      "['RHAx', 'LHAx'] x\n",
      "['RHAx', 'LHAx'] x\n",
      "(6840, 45, 125) (6840,)\n",
      "shape final:  (6840, 375)\n",
      "(6840, 375)\n",
      "(1140, 45, 125) (1140,)\n",
      "shape final:  (1140, 375)\n",
      "(1140, 375)\n",
      "['RLAx', 'LLAx', 'RHAx'] x\n",
      "['RLAx', 'LLAx', 'RHAx'] x\n",
      "(6840, 45, 125) (6840,)\n",
      "shape final:  (6840, 375)\n",
      "(6840, 375)\n",
      "(1140, 45, 125) (1140,)\n",
      "shape final:  (1140, 375)\n",
      "(1140, 375)\n",
      "['RLAx', 'LLAx', 'LHAx'] x\n",
      "['RLAx', 'LLAx', 'LHAx'] x\n",
      "(6840, 45, 125) (6840,)\n",
      "shape final:  (6840, 375)\n",
      "(6840, 375)\n",
      "(1140, 45, 125) (1140,)\n",
      "shape final:  (1140, 375)\n",
      "(1140, 375)\n",
      "['RLAx', 'RHAx', 'LHAx'] x\n",
      "['RLAx', 'RHAx', 'LHAx'] x\n",
      "(6840, 45, 125) (6840,)\n",
      "shape final:  (6840, 375)\n",
      "(6840, 375)\n",
      "(1140, 45, 125) (1140,)\n",
      "shape final:  (1140, 375)\n",
      "(1140, 375)\n",
      "['LLAx', 'RHAx', 'LHAx'] x\n",
      "['LLAx', 'RHAx', 'LHAx'] x\n",
      "(6840, 45, 125) (6840,)\n",
      "shape final:  (6840, 500)\n",
      "(6840, 500)\n",
      "(1140, 45, 125) (1140,)\n",
      "shape final:  (1140, 500)\n",
      "(1140, 500)\n",
      "['RLAx', 'LLAx', 'RHAx', 'LHAx'] x\n",
      "['RLAx', 'LLAx', 'RHAx', 'LHAx'] x\n"
     ]
    }
   ],
   "source": [
    "mod = OrderedDict()\n",
    "for xn in p:\n",
    "    \n",
    "    rng = numpy.random.RandomState([2015,10,10])\n",
    "    train_dp = MACLDataProvider(dset='train', batch_size=100,\n",
    "                                max_num_batches=-10, randomize=True,name=deepcopy(xn),\n",
    "                                conv_reshape=False, fft=True)\n",
    "    valid_dp = MACLDataProvider(dset='valid', batch_size=1140,\n",
    "                                max_num_batches=1, randomize=False,name=deepcopy(xn),\n",
    "                                conv_reshape=False, fft=True)\n",
    "    \n",
    "    learning_rate =0.01\n",
    "    max_epochs = 1000\n",
    "    if isinstance(xn, str):\n",
    "        dim = 125\n",
    "    else:\n",
    "        dim = len(xn)*125\n",
    "    cost = CECost()    \n",
    "    stats = list()\n",
    "\n",
    "    train_dp.reset()\n",
    "    valid_dp.reset()\n",
    "    \n",
    "    model = MLP(cost=cost)\n",
    "\n",
    "    model.add_layer(Sigmoid(idim=dim, odim=dim, irange=1.6, rng=rng))\n",
    "\n",
    "    model.add_layer(Softmax(idim=dim, odim=19, rng=rng))\n",
    "    print xn, \"x\"\n",
    "    lr_scheduler = LearningRateFixed(learning_rate=learning_rate, max_epochs=max_epochs)\n",
    "    optimiser = SGDOptimiser(lr_scheduler=lr_scheduler)\n",
    "\n",
    "    logger.info('Training started...')\n",
    "    tr_stats_f, valid_stats_f = optimiser.train(model, train_dp, valid_dp)\n",
    "    mod[str(xn)] = (deepcopy(model), deepcopy(valid_dp2))\n",
    "    print xn, \"x\"\n",
    "    \n"
   ]
  },
  {
   "cell_type": "code",
   "execution_count": 41,
   "metadata": {
    "collapsed": true
   },
   "outputs": [],
   "source": [
    "import cPickle as p"
   ]
  },
  {
   "cell_type": "code",
   "execution_count": 42,
   "metadata": {
    "collapsed": true
   },
   "outputs": [],
   "source": [
    "with open(\"shapley.pkl\", \"wb\") as f:\n",
    "    p.dump(mod, f)"
   ]
  },
  {
   "cell_type": "code",
   "execution_count": 43,
   "metadata": {
    "collapsed": false
   },
   "outputs": [
    {
     "data": {
      "text/plain": [
       "OrderedDict([('RLAx',\n",
       "              (<mlp.layers.MLP at 0x5cbb5d0>,\n",
       "               <mlp.dataset.MACLDataProvider at 0x5d95390>)),\n",
       "             ('LLAx',\n",
       "              (<mlp.layers.MLP at 0x5d95550>,\n",
       "               <mlp.dataset.MACLDataProvider at 0x5d95150>)),\n",
       "             ('RHAx',\n",
       "              (<mlp.layers.MLP at 0x5b63fd0>,\n",
       "               <mlp.dataset.MACLDataProvider at 0x5d955d0>)),\n",
       "             ('LHAx',\n",
       "              (<mlp.layers.MLP at 0x5da0c10>,\n",
       "               <mlp.dataset.MACLDataProvider at 0x5d95610>)),\n",
       "             (\"['RLAx', 'LLAx']\",\n",
       "              (<mlp.layers.MLP at 0x5cca090>,\n",
       "               <mlp.dataset.MACLDataProvider at 0x5d951d0>)),\n",
       "             (\"['RLAx', 'RHAx']\",\n",
       "              (<mlp.layers.MLP at 0x5d95810>,\n",
       "               <mlp.dataset.MACLDataProvider at 0x5dabbd0>)),\n",
       "             (\"['RLAx', 'LHAx']\",\n",
       "              (<mlp.layers.MLP at 0x5d95850>,\n",
       "               <mlp.dataset.MACLDataProvider at 0x5dab3d0>)),\n",
       "             (\"['LLAx', 'RHAx']\",\n",
       "              (<mlp.layers.MLP at 0x5d952d0>,\n",
       "               <mlp.dataset.MACLDataProvider at 0x5dab4d0>)),\n",
       "             (\"['LLAx', 'LHAx']\",\n",
       "              (<mlp.layers.MLP at 0x5d95310>,\n",
       "               <mlp.dataset.MACLDataProvider at 0x5dab590>)),\n",
       "             (\"['RHAx', 'LHAx']\",\n",
       "              (<mlp.layers.MLP at 0x5dabed0>,\n",
       "               <mlp.dataset.MACLDataProvider at 0x5dab710>)),\n",
       "             (\"['RLAx', 'LLAx', 'RHAx']\",\n",
       "              (<mlp.layers.MLP at 0x5dabfd0>,\n",
       "               <mlp.dataset.MACLDataProvider at 0x5dab5d0>)),\n",
       "             (\"['RLAx', 'LLAx', 'LHAx']\",\n",
       "              (<mlp.layers.MLP at 0x5dabd50>,\n",
       "               <mlp.dataset.MACLDataProvider at 0x5dab210>)),\n",
       "             (\"['RLAx', 'RHAx', 'LHAx']\",\n",
       "              (<mlp.layers.MLP at 0x5dabd90>,\n",
       "               <mlp.dataset.MACLDataProvider at 0x5dad310>)),\n",
       "             (\"['LLAx', 'RHAx', 'LHAx']\",\n",
       "              (<mlp.layers.MLP at 0x5dabcd0>,\n",
       "               <mlp.dataset.MACLDataProvider at 0x5dad510>)),\n",
       "             (\"['RLAx', 'LLAx', 'RHAx', 'LHAx']\",\n",
       "              (<mlp.layers.MLP at 0x5dab450>,\n",
       "               <mlp.dataset.MACLDataProvider at 0x5dad6d0>))])"
      ]
     },
     "execution_count": 43,
     "metadata": {},
     "output_type": "execute_result"
    }
   ],
   "source": [
    "mod"
   ]
  },
  {
   "cell_type": "code",
   "execution_count": 44,
   "metadata": {
    "collapsed": true
   },
   "outputs": [],
   "source": [
    "f2 = open(\"shapley.pkl\")\n",
    "g = p.load(f2)"
   ]
  },
  {
   "cell_type": "code",
   "execution_count": 46,
   "metadata": {
    "collapsed": false
   },
   "outputs": [
    {
     "data": {
      "text/plain": [
       "OrderedDict([('RLAx',\n",
       "              (<mlp.layers.MLP at 0x5d82b10>,\n",
       "               <mlp.dataset.MACLDataProvider at 0x5d82d10>)),\n",
       "             ('LLAx',\n",
       "              (<mlp.layers.MLP at 0x5d82650>,\n",
       "               <mlp.dataset.MACLDataProvider at 0x5d82fd0>)),\n",
       "             ('RHAx',\n",
       "              (<mlp.layers.MLP at 0x5d82f90>,\n",
       "               <mlp.dataset.MACLDataProvider at 0x5cd9310>)),\n",
       "             ('LHAx',\n",
       "              (<mlp.layers.MLP at 0x5cd9050>,\n",
       "               <mlp.dataset.MACLDataProvider at 0x5cca250>)),\n",
       "             (\"['RLAx', 'LLAx']\",\n",
       "              (<mlp.layers.MLP at 0x5cb9850>,\n",
       "               <mlp.dataset.MACLDataProvider at 0x5cb9610>)),\n",
       "             (\"['RLAx', 'RHAx']\",\n",
       "              (<mlp.layers.MLP at 0x5cb9690>,\n",
       "               <mlp.dataset.MACLDataProvider at 0x5da08d0>)),\n",
       "             (\"['RLAx', 'LHAx']\",\n",
       "              (<mlp.layers.MLP at 0x5da0890>,\n",
       "               <mlp.dataset.MACLDataProvider at 0x5da0a50>)),\n",
       "             (\"['LLAx', 'RHAx']\",\n",
       "              (<mlp.layers.MLP at 0x5da0750>,\n",
       "               <mlp.dataset.MACLDataProvider at 0x5da0d50>)),\n",
       "             (\"['LLAx', 'LHAx']\",\n",
       "              (<mlp.layers.MLP at 0x5da0e90>,\n",
       "               <mlp.dataset.MACLDataProvider at 0x5da0f90>)),\n",
       "             (\"['RHAx', 'LHAx']\",\n",
       "              (<mlp.layers.MLP at 0x5da0d90>,\n",
       "               <mlp.dataset.MACLDataProvider at 0x5d800d0>)),\n",
       "             (\"['RLAx', 'LLAx', 'RHAx']\",\n",
       "              (<mlp.layers.MLP at 0x5d801d0>,\n",
       "               <mlp.dataset.MACLDataProvider at 0x5d80190>)),\n",
       "             (\"['RLAx', 'LLAx', 'LHAx']\",\n",
       "              (<mlp.layers.MLP at 0x5d80410>,\n",
       "               <mlp.dataset.MACLDataProvider at 0x5d80610>)),\n",
       "             (\"['RLAx', 'RHAx', 'LHAx']\",\n",
       "              (<mlp.layers.MLP at 0x5d80650>,\n",
       "               <mlp.dataset.MACLDataProvider at 0x5d80750>)),\n",
       "             (\"['LLAx', 'RHAx', 'LHAx']\",\n",
       "              (<mlp.layers.MLP at 0x5d808d0>,\n",
       "               <mlp.dataset.MACLDataProvider at 0x5d80a50>)),\n",
       "             (\"['RLAx', 'LLAx', 'RHAx', 'LHAx']\",\n",
       "              (<mlp.layers.MLP at 0x5d80bd0>,\n",
       "               <mlp.dataset.MACLDataProvider at 0x5d80b50>))])"
      ]
     },
     "execution_count": 46,
     "metadata": {},
     "output_type": "execute_result"
    }
   ],
   "source": [
    "g"
   ]
  },
  {
   "cell_type": "code",
   "execution_count": null,
   "metadata": {
    "collapsed": true
   },
   "outputs": [],
   "source": []
  }
 ],
 "metadata": {
  "kernelspec": {
   "display_name": "Python 2",
   "language": "python",
   "name": "python2"
  },
  "language_info": {
   "codemirror_mode": {
    "name": "ipython",
    "version": 2
   },
   "file_extension": ".py",
   "mimetype": "text/x-python",
   "name": "python",
   "nbconvert_exporter": "python",
   "pygments_lexer": "ipython2",
   "version": "2.7.5+"
  }
 },
 "nbformat": 4,
 "nbformat_minor": 0
}
