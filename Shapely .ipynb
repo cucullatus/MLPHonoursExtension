{
 "cells": [
  {
   "cell_type": "code",
   "execution_count": 22,
   "metadata": {
    "collapsed": false
   },
   "outputs": [],
   "source": [
    "from copy import deepcopy\n",
    "from mlp.layers import MLP, Linear, Sigmoid, Softmax #import required layer types\n",
    "from mlp.layers import * \n",
    "from mlp.optimisers import SGDOptimiser #import the optimiser\n",
    "\n",
    "from mlp.costs import CECost, MSECost #import the cost we want to use for optimisation\n",
    "from mlp.schedulers import LearningRateFixed\n",
    "import numpy\n",
    "import logging\n",
    "from mlp.dataset import *\n",
    "from base import *\n",
    "from itertools import chain, combinations\n",
    "from collections import OrderedDict"
   ]
  },
  {
   "cell_type": "code",
   "execution_count": 23,
   "metadata": {
    "collapsed": true
   },
   "outputs": [],
   "source": [
    "def powerset(iterable):\n",
    "    s = list(iterable)\n",
    "    return list(chain.from_iterable(combinations(s, r) for r in range(len(s)+1)))"
   ]
  },
  {
   "cell_type": "code",
   "execution_count": 24,
   "metadata": {
    "collapsed": false
   },
   "outputs": [
    {
     "name": "stdout",
     "output_type": "stream",
     "text": [
      "['RLAx', 'LLAx', 'RHAx', 'LHAx', ['RLAx', 'LLAx'], ['RLAx', 'RHAx'], ['RLAx', 'LHAx'], ['LLAx', 'RHAx'], ['LLAx', 'LHAx'], ['RHAx', 'LHAx'], ['RLAx', 'LLAx', 'RHAx'], ['RLAx', 'LLAx', 'LHAx'], ['RLAx', 'RHAx', 'LHAx'], ['LLAx', 'RHAx', 'LHAx'], ['RLAx', 'LLAx', 'RHAx', 'LHAx']] 15\n"
     ]
    }
   ],
   "source": [
    "devices = ['RLAx', 'LLAx', 'RHAx', 'LHAx']\n",
    "p =map(lambda x: list(x) if len(x) > 1 else list(x)[0], filter(lambda x: len(x) >0 ,powerset(devices)))\n",
    "#p.pop(0)\n",
    "print p, len(p)"
   ]
  },
  {
   "cell_type": "code",
   "execution_count": 25,
   "metadata": {
    "collapsed": false
   },
   "outputs": [
    {
     "name": "stdout",
     "output_type": "stream",
     "text": [
      "(6840, 45, 125) (6840,)\n",
      "(6840, 125)\n",
      "(1140, 45, 125) (1140,)\n",
      "(1140, 125)\n",
      "RLAx x\n",
      "RLAx x\n",
      "(6840, 45, 125) (6840,)\n",
      "(6840, 125)\n",
      "(1140, 45, 125) (1140,)\n",
      "(1140, 125)\n",
      "LLAx x\n",
      "LLAx x\n",
      "(6840, 45, 125) (6840,)\n",
      "(6840, 125)\n",
      "(1140, 45, 125) (1140,)\n",
      "(1140, 125)\n",
      "RHAx x\n",
      "RHAx x\n",
      "(6840, 45, 125) (6840,)\n",
      "(6840, 125)\n",
      "(1140, 45, 125) (1140,)\n",
      "(1140, 125)\n",
      "LHAx x\n",
      "LHAx x\n",
      "(6840, 45, 125) (6840,)\n",
      "shape final:  (6840, 250)\n",
      "(6840, 250)\n",
      "(1140, 45, 125) (1140,)\n",
      "shape final:  (1140, 250)\n",
      "(1140, 250)\n",
      "['RLAx', 'LLAx'] x\n",
      "['RLAx', 'LLAx'] x\n",
      "(6840, 45, 125) (6840,)\n",
      "shape final:  (6840, 250)\n",
      "(6840, 250)\n",
      "(1140, 45, 125) (1140,)\n",
      "shape final:  (1140, 250)\n",
      "(1140, 250)\n",
      "['RLAx', 'RHAx'] x\n",
      "['RLAx', 'RHAx'] x\n",
      "(6840, 45, 125) (6840,)\n",
      "shape final:  (6840, 250)\n",
      "(6840, 250)\n",
      "(1140, 45, 125) (1140,)\n",
      "shape final:  (1140, 250)\n",
      "(1140, 250)\n",
      "['RLAx', 'LHAx'] x\n",
      "['RLAx', 'LHAx'] x\n",
      "(6840, 45, 125) (6840,)\n",
      "shape final:  (6840, 250)\n",
      "(6840, 250)\n",
      "(1140, 45, 125) (1140,)\n",
      "shape final:  (1140, 250)\n",
      "(1140, 250)\n",
      "['LLAx', 'RHAx'] x\n",
      "['LLAx', 'RHAx'] x\n",
      "(6840, 45, 125) (6840,)\n",
      "shape final:  (6840, 250)\n",
      "(6840, 250)\n",
      "(1140, 45, 125) (1140,)\n",
      "shape final:  (1140, 250)\n",
      "(1140, 250)\n",
      "['LLAx', 'LHAx'] x\n",
      "['LLAx', 'LHAx'] x\n",
      "(6840, 45, 125) (6840,)\n",
      "shape final:  (6840, 250)\n",
      "(6840, 250)\n",
      "(1140, 45, 125) (1140,)\n",
      "shape final:  (1140, 250)\n",
      "(1140, 250)\n",
      "['RHAx', 'LHAx'] x\n",
      "['RHAx', 'LHAx'] x\n",
      "(6840, 45, 125) (6840,)\n",
      "shape final:  (6840, 375)\n",
      "(6840, 375)\n",
      "(1140, 45, 125) (1140,)\n",
      "shape final:  (1140, 375)\n",
      "(1140, 375)\n",
      "['RLAx', 'LLAx', 'RHAx'] x\n",
      "['RLAx', 'LLAx', 'RHAx'] x\n",
      "(6840, 45, 125) (6840,)\n",
      "shape final:  (6840, 375)\n",
      "(6840, 375)\n",
      "(1140, 45, 125) (1140,)\n",
      "shape final:  (1140, 375)\n",
      "(1140, 375)\n",
      "['RLAx', 'LLAx', 'LHAx'] x\n",
      "['RLAx', 'LLAx', 'LHAx'] x\n",
      "(6840, 45, 125) (6840,)\n",
      "shape final:  (6840, 375)\n",
      "(6840, 375)\n",
      "(1140, 45, 125) (1140,)\n",
      "shape final:  (1140, 375)\n",
      "(1140, 375)\n",
      "['RLAx', 'RHAx', 'LHAx'] x\n",
      "['RLAx', 'RHAx', 'LHAx'] x\n",
      "(6840, 45, 125) (6840,)\n",
      "shape final:  (6840, 375)\n",
      "(6840, 375)\n",
      "(1140, 45, 125) (1140,)\n",
      "shape final:  (1140, 375)\n",
      "(1140, 375)\n",
      "['LLAx', 'RHAx', 'LHAx'] x\n",
      "['LLAx', 'RHAx', 'LHAx'] x\n",
      "(6840, 45, 125) (6840,)\n",
      "shape final:  (6840, 500)\n",
      "(6840, 500)\n",
      "(1140, 45, 125) (1140,)\n",
      "shape final:  (1140, 500)\n",
      "(1140, 500)\n",
      "['RLAx', 'LLAx', 'RHAx', 'LHAx'] x\n",
      "['RLAx', 'LLAx', 'RHAx', 'LHAx'] x\n"
     ]
    }
   ],
   "source": [
    "mod = OrderedDict()\n",
    "for xn in p:\n",
    "    \n",
    "    rng = numpy.random.RandomState([2015,10,10])\n",
    "    train_dp = MACLDataProvider(dset='train', batch_size=100,\n",
    "                                max_num_batches=-10, randomize=True,name=deepcopy(xn),\n",
    "                                conv_reshape=False, fft=True)\n",
    "    valid_dp = MACLDataProvider(dset='valid', batch_size=1140,\n",
    "                                max_num_batches=1, randomize=False,name=deepcopy(xn),\n",
    "                                conv_reshape=False, fft=True)\n",
    "    \n",
    "    learning_rate =0.01\n",
    "    max_epochs = 1000\n",
    "    if isinstance(xn, str):\n",
    "        dim = 125\n",
    "    else:\n",
    "        dim = len(xn)*125\n",
    "    cost = CECost()    \n",
    "    stats = list()\n",
    "\n",
    "    train_dp.reset()\n",
    "    valid_dp.reset()\n",
    "    \n",
    "    model = MLP(cost=cost)\n",
    "\n",
    "    model.add_layer(Sigmoid(idim=dim, odim=dim, irange=1.6, rng=rng))\n",
    "\n",
    "    model.add_layer(Softmax(idim=dim, odim=19, rng=rng))\n",
    "    print xn, \"x\"\n",
    "    lr_scheduler = LearningRateFixed(learning_rate=learning_rate, max_epochs=max_epochs)\n",
    "    optimiser = SGDOptimiser(lr_scheduler=lr_scheduler)\n",
    "\n",
    "    logger.info('Training started...')\n",
    "    tr_stats_f, valid_stats_f = optimiser.train(model, train_dp, valid_dp)\n",
    "    mod[str(xn)] = (deepcopy(model), deepcopy(valid_dp))\n",
    "    print xn, \"x\"\n",
    "    \n"
   ]
  },
  {
   "cell_type": "code",
   "execution_count": 26,
   "metadata": {
    "collapsed": true
   },
   "outputs": [],
   "source": [
    "import cPickle as p"
   ]
  },
  {
   "cell_type": "code",
   "execution_count": 27,
   "metadata": {
    "collapsed": true
   },
   "outputs": [],
   "source": [
    "with open(\"shapley2.pkl\", \"wb\") as f:\n",
    "    p.dump(mod, f)"
   ]
  },
  {
   "cell_type": "code",
   "execution_count": 28,
   "metadata": {
    "collapsed": false
   },
   "outputs": [
    {
     "data": {
      "text/plain": [
       "OrderedDict([('RLAx',\n",
       "              (<mlp.layers.MLP at 0x31c5f50>,\n",
       "               <mlp.dataset.MACLDataProvider at 0x677c910>)),\n",
       "             ('LLAx',\n",
       "              (<mlp.layers.MLP at 0x677c4d0>,\n",
       "               <mlp.dataset.MACLDataProvider at 0x677ca50>)),\n",
       "             ('RHAx',\n",
       "              (<mlp.layers.MLP at 0x677c6d0>,\n",
       "               <mlp.dataset.MACLDataProvider at 0x677ccd0>)),\n",
       "             ('LHAx',\n",
       "              (<mlp.layers.MLP at 0x677c610>,\n",
       "               <mlp.dataset.MACLDataProvider at 0x677ced0>)),\n",
       "             (\"['RLAx', 'LLAx']\",\n",
       "              (<mlp.layers.MLP at 0x677c590>,\n",
       "               <mlp.dataset.MACLDataProvider at 0x6779090>)),\n",
       "             (\"['RLAx', 'RHAx']\",\n",
       "              (<mlp.layers.MLP at 0x677ce50>,\n",
       "               <mlp.dataset.MACLDataProvider at 0x6779290>)),\n",
       "             (\"['RLAx', 'LHAx']\",\n",
       "              (<mlp.layers.MLP at 0x677cf50>,\n",
       "               <mlp.dataset.MACLDataProvider at 0x6779490>)),\n",
       "             (\"['LLAx', 'RHAx']\",\n",
       "              (<mlp.layers.MLP at 0x677cbd0>,\n",
       "               <mlp.dataset.MACLDataProvider at 0x6779690>)),\n",
       "             (\"['LLAx', 'LHAx']\",\n",
       "              (<mlp.layers.MLP at 0x677cdd0>,\n",
       "               <mlp.dataset.MACLDataProvider at 0x6779890>)),\n",
       "             (\"['RHAx', 'LHAx']\",\n",
       "              (<mlp.layers.MLP at 0x67791d0>,\n",
       "               <mlp.dataset.MACLDataProvider at 0x6779a90>)),\n",
       "             (\"['RLAx', 'LLAx', 'RHAx']\",\n",
       "              (<mlp.layers.MLP at 0x67793d0>,\n",
       "               <mlp.dataset.MACLDataProvider at 0x6779d10>)),\n",
       "             (\"['RLAx', 'LLAx', 'LHAx']\",\n",
       "              (<mlp.layers.MLP at 0x67795d0>,\n",
       "               <mlp.dataset.MACLDataProvider at 0x6779f50>)),\n",
       "             (\"['RLAx', 'RHAx', 'LHAx']\",\n",
       "              (<mlp.layers.MLP at 0x67797d0>,\n",
       "               <mlp.dataset.MACLDataProvider at 0x67691d0>)),\n",
       "             (\"['LLAx', 'RHAx', 'LHAx']\",\n",
       "              (<mlp.layers.MLP at 0x6779ed0>,\n",
       "               <mlp.dataset.MACLDataProvider at 0x6769410>)),\n",
       "             (\"['RLAx', 'LLAx', 'RHAx', 'LHAx']\",\n",
       "              (<mlp.layers.MLP at 0x6779a10>,\n",
       "               <mlp.dataset.MACLDataProvider at 0x67695d0>))])"
      ]
     },
     "execution_count": 28,
     "metadata": {},
     "output_type": "execute_result"
    }
   ],
   "source": [
    "mod"
   ]
  },
  {
   "cell_type": "code",
   "execution_count": 29,
   "metadata": {
    "collapsed": false
   },
   "outputs": [],
   "source": [
    "f2 = open(\"shapley2.pkl\")\n",
    "g = p.load(f2)"
   ]
  },
  {
   "cell_type": "code",
   "execution_count": 30,
   "metadata": {
    "collapsed": false
   },
   "outputs": [
    {
     "data": {
      "text/plain": [
       "OrderedDict([('RLAx',\n",
       "              (<mlp.layers.MLP at 0x579ea50>,\n",
       "               <mlp.dataset.MACLDataProvider at 0x31c5dd0>)),\n",
       "             ('LLAx',\n",
       "              (<mlp.layers.MLP at 0x31c5b10>,\n",
       "               <mlp.dataset.MACLDataProvider at 0x677c210>)),\n",
       "             ('RHAx',\n",
       "              (<mlp.layers.MLP at 0x677c290>,\n",
       "               <mlp.dataset.MACLDataProvider at 0x677c0d0>)),\n",
       "             ('LHAx',\n",
       "              (<mlp.layers.MLP at 0x677c150>,\n",
       "               <mlp.dataset.MACLDataProvider at 0x67696d0>)),\n",
       "             (\"['RLAx', 'LLAx']\",\n",
       "              (<mlp.layers.MLP at 0x6769750>,\n",
       "               <mlp.dataset.MACLDataProvider at 0x67698d0>)),\n",
       "             (\"['RLAx', 'RHAx']\",\n",
       "              (<mlp.layers.MLP at 0x6769950>,\n",
       "               <mlp.dataset.MACLDataProvider at 0x6769ad0>)),\n",
       "             (\"['RLAx', 'LHAx']\",\n",
       "              (<mlp.layers.MLP at 0x6769b50>,\n",
       "               <mlp.dataset.MACLDataProvider at 0x6769cd0>)),\n",
       "             (\"['LLAx', 'RHAx']\",\n",
       "              (<mlp.layers.MLP at 0x6769d50>,\n",
       "               <mlp.dataset.MACLDataProvider at 0x6769ed0>)),\n",
       "             (\"['LLAx', 'LHAx']\",\n",
       "              (<mlp.layers.MLP at 0x6769f50>,\n",
       "               <mlp.dataset.MACLDataProvider at 0x67b6110>)),\n",
       "             (\"['RHAx', 'LHAx']\",\n",
       "              (<mlp.layers.MLP at 0x67b6190>,\n",
       "               <mlp.dataset.MACLDataProvider at 0x67b6310>)),\n",
       "             (\"['RLAx', 'LLAx', 'RHAx']\",\n",
       "              (<mlp.layers.MLP at 0x67b63d0>,\n",
       "               <mlp.dataset.MACLDataProvider at 0x67b6550>)),\n",
       "             (\"['RLAx', 'LLAx', 'LHAx']\",\n",
       "              (<mlp.layers.MLP at 0x67b6610>,\n",
       "               <mlp.dataset.MACLDataProvider at 0x67b6790>)),\n",
       "             (\"['RLAx', 'RHAx', 'LHAx']\",\n",
       "              (<mlp.layers.MLP at 0x67b6850>,\n",
       "               <mlp.dataset.MACLDataProvider at 0x67b69d0>)),\n",
       "             (\"['LLAx', 'RHAx', 'LHAx']\",\n",
       "              (<mlp.layers.MLP at 0x67b6a90>,\n",
       "               <mlp.dataset.MACLDataProvider at 0x67b6c10>)),\n",
       "             (\"['RLAx', 'LLAx', 'RHAx', 'LHAx']\",\n",
       "              (<mlp.layers.MLP at 0x67b6c90>,\n",
       "               <mlp.dataset.MACLDataProvider at 0x67b6e10>))])"
      ]
     },
     "execution_count": 30,
     "metadata": {},
     "output_type": "execute_result"
    }
   ],
   "source": [
    "g"
   ]
  },
  {
   "cell_type": "code",
   "execution_count": 31,
   "metadata": {
    "collapsed": false
   },
   "outputs": [
    {
     "name": "stdout",
     "output_type": "stream",
     "text": [
      "15\n"
     ]
    }
   ],
   "source": [
    "print len(g)\n",
    "learning_rate =0.01\n",
    "max_epochs = 1000\n",
    "lr_scheduler = LearningRateFixed(learning_rate=learning_rate, max_epochs=max_epochs)\n",
    "optimiser = SGDOptimiser(lr_scheduler=lr_scheduler)\n"
   ]
  },
  {
   "cell_type": "code",
   "execution_count": 14,
   "metadata": {
    "collapsed": false
   },
   "outputs": [],
   "source": [
    "# player one\n",
    "phi1 = list()\n",
    "# 1,2,3,4 \n",
    "# v({1}) - v(not)\n",
    "g['RLAx'][1].reset()\n",
    "phi1 += [optimiser.validate(g['RLAx'][0], g['RLAx'][1] )[1]]*6"
   ]
  },
  {
   "cell_type": "code",
   "execution_count": 32,
   "metadata": {
    "collapsed": false
   },
   "outputs": [
    {
     "name": "stdout",
     "output_type": "stream",
     "text": [
      "(1140, 250)\n"
     ]
    },
    {
     "data": {
      "text/plain": [
       "(1.0720617841854558, 0.68421052631578949)"
      ]
     },
     "execution_count": 32,
     "metadata": {},
     "output_type": "execute_result"
    }
   ],
   "source": [
    "g[\"['RLAx', 'LLAx']\"][1].reset()\n",
    "print g[\"['RLAx', 'LLAx']\"][1].x.shape\n",
    "optimiser.validate(g[\"['RLAx', 'LLAx']\"][0], g[\"['RLAx', 'LLAx']\"][1] )"
   ]
  },
  {
   "cell_type": "code",
   "execution_count": 39,
   "metadata": {
    "collapsed": true
   },
   "outputs": [],
   "source": [
    "def sor(corr, n):\n",
    "    return [i for i in corr if i in n]"
   ]
  },
  {
   "cell_type": "code",
   "execution_count": 43,
   "metadata": {
    "collapsed": false
   },
   "outputs": [
    {
     "name": "stdout",
     "output_type": "stream",
     "text": [
      "RLAx\n",
      "RLAx\n",
      "RLAx\n",
      "RLAx\n",
      "RLAx\n",
      "RLAx\n"
     ]
    }
   ],
   "source": [
    "from itertools import permutations as permutation\n",
    "\n",
    "\n",
    "# optimiser.validate is equivalent to the value func v()\n",
    "# in wikipedia\n",
    "\n",
    "d = ['RLAx', 'LLAx', 'RHAx', 'LHAx']\n",
    "dp = list(permutation(d))\n",
    "p1 = 'RLAx'\n",
    "valsp1 = list()\n",
    "for i, elem in enumerate(dp):\n",
    "    ind =  dp[i].index(p1)\n",
    "    if len(list(dp[i][:ind + 1]) ) == 1:\n",
    "        predlistp = str( (dp[i][ind])  )\n",
    "        print predlistp\n",
    "    else:\n",
    "        predlistp = str( sor(d,list(dp[i][:ind + 1]))  )\n",
    "    if len(list(dp[i][:ind])) == 1:\n",
    "        predlist = list(dp[i][:ind])[0]\n",
    "    else:\n",
    "        predlist =  sor(d,list(dp[i][:ind]))\n",
    "    if predlist == []:\n",
    "        mod , val = g[predlistp]\n",
    "        val.reset()\n",
    "        valsp1.append(optimiser.validate(mod,val)[1])\n",
    "    else:\n",
    "        mod , val = g[predlistp]\n",
    "        mod2 , val2 = g[str(predlist)]\n",
    "        val.reset()\n",
    "        val2.reset()\n",
    "        valsp1.append(optimiser.validate(mod,val)[1]\n",
    "                      - optimiser.validate(mod2,val2)[1])\n"
   ]
  },
  {
   "cell_type": "code",
   "execution_count": 46,
   "metadata": {
    "collapsed": false
   },
   "outputs": [
    {
     "data": {
      "text/plain": [
       "0.22733918128654965"
      ]
     },
     "execution_count": 46,
     "metadata": {},
     "output_type": "execute_result"
    }
   ],
   "source": [
    "sum(valsp1) / len(valsp1)"
   ]
  },
  {
   "cell_type": "code",
   "execution_count": 47,
   "metadata": {
    "collapsed": false
   },
   "outputs": [
    {
     "name": "stdout",
     "output_type": "stream",
     "text": [
      "LLAx\n",
      "LLAx\n",
      "LLAx\n",
      "LLAx\n",
      "LLAx\n",
      "LLAx\n"
     ]
    }
   ],
   "source": [
    "d = ['RLAx', 'LLAx', 'RHAx', 'LHAx']\n",
    "dp = list(permutation(d))\n",
    "p1 = 'LLAx'\n",
    "valsp1 = list()\n",
    "for i, elem in enumerate(dp):\n",
    "    ind =  dp[i].index(p1)\n",
    "    if len(list(dp[i][:ind + 1]) ) == 1:\n",
    "        predlistp = str( (dp[i][ind])  )\n",
    "        print predlistp\n",
    "    else:\n",
    "        predlistp = str( sor(d,list(dp[i][:ind + 1]))  )\n",
    "    if len(list(dp[i][:ind])) == 1:\n",
    "        predlist = list(dp[i][:ind])[0]\n",
    "    else:\n",
    "        predlist =  sor(d,list(dp[i][:ind]))\n",
    "    if predlist == []:\n",
    "        mod , val = g[predlistp]\n",
    "        val.reset()\n",
    "        valsp1.append(optimiser.validate(mod,val)[1])\n",
    "    else:\n",
    "        mod , val = g[predlistp]\n",
    "        mod2 , val2 = g[str(predlist)]\n",
    "        val.reset()\n",
    "        val2.reset()\n",
    "        valsp1.append(optimiser.validate(mod,val)[1]\n",
    "                      - optimiser.validate(mod2,val2)[1])"
   ]
  },
  {
   "cell_type": "code",
   "execution_count": 48,
   "metadata": {
    "collapsed": false
   },
   "outputs": [
    {
     "data": {
      "text/plain": [
       "0.19722222222222219"
      ]
     },
     "execution_count": 48,
     "metadata": {},
     "output_type": "execute_result"
    }
   ],
   "source": [
    "sum(valsp1) / len(valsp1)"
   ]
  },
  {
   "cell_type": "code",
   "execution_count": 50,
   "metadata": {
    "collapsed": false
   },
   "outputs": [
    {
     "name": "stdout",
     "output_type": "stream",
     "text": [
      "RHAx\n",
      "RHAx\n",
      "RHAx\n",
      "RHAx\n",
      "RHAx\n",
      "RHAx\n"
     ]
    },
    {
     "data": {
      "text/plain": [
       "0.14122807017543862"
      ]
     },
     "execution_count": 50,
     "metadata": {},
     "output_type": "execute_result"
    }
   ],
   "source": [
    "d = ['RLAx', 'LLAx', 'RHAx', 'LHAx']\n",
    "dp = list(permutation(d))\n",
    "p1 = 'RHAx'\n",
    "valsp1 = list()\n",
    "for i, elem in enumerate(dp):\n",
    "    ind =  dp[i].index(p1)\n",
    "    if len(list(dp[i][:ind + 1]) ) == 1:\n",
    "        predlistp = str( (dp[i][ind])  )\n",
    "        print predlistp\n",
    "    else:\n",
    "        predlistp = str( sor(d,list(dp[i][:ind + 1]))  )\n",
    "    if len(list(dp[i][:ind])) == 1:\n",
    "        predlist = list(dp[i][:ind])[0]\n",
    "    else:\n",
    "        predlist =  sor(d,list(dp[i][:ind]))\n",
    "    if predlist == []:\n",
    "        mod , val = g[predlistp]\n",
    "        val.reset()\n",
    "        valsp1.append(optimiser.validate(mod,val)[1])\n",
    "    else:\n",
    "        mod , val = g[predlistp]\n",
    "        mod2 , val2 = g[str(predlist)]\n",
    "        val.reset()\n",
    "        val2.reset()\n",
    "        valsp1.append(optimiser.validate(mod,val)[1]\n",
    "                      - optimiser.validate(mod2,val2)[1])\n",
    "\n",
    "sum(valsp1) / len(valsp1)"
   ]
  },
  {
   "cell_type": "code",
   "execution_count": 51,
   "metadata": {
    "collapsed": false
   },
   "outputs": [
    {
     "name": "stdout",
     "output_type": "stream",
     "text": [
      "LHAx\n",
      "LHAx\n",
      "LHAx\n",
      "LHAx\n",
      "LHAx\n",
      "LHAx\n"
     ]
    },
    {
     "data": {
      "text/plain": [
       "0.12280701754385966"
      ]
     },
     "execution_count": 51,
     "metadata": {},
     "output_type": "execute_result"
    }
   ],
   "source": [
    "d = ['RLAx', 'LLAx', 'RHAx', 'LHAx']\n",
    "dp = list(permutation(d))\n",
    "p1 = 'LHAx'\n",
    "valsp1 = list()\n",
    "for i, elem in enumerate(dp):\n",
    "    ind =  dp[i].index(p1)\n",
    "    if len(list(dp[i][:ind + 1]) ) == 1:\n",
    "        predlistp = str( (dp[i][ind])  )\n",
    "        print predlistp\n",
    "    else:\n",
    "        predlistp = str( sor(d,list(dp[i][:ind + 1]))  )\n",
    "    if len(list(dp[i][:ind])) == 1:\n",
    "        predlist = list(dp[i][:ind])[0]\n",
    "    else:\n",
    "        predlist =  sor(d,list(dp[i][:ind]))\n",
    "    if predlist == []:\n",
    "        mod , val = g[predlistp]\n",
    "        val.reset()\n",
    "        valsp1.append(optimiser.validate(mod,val)[1])\n",
    "    else:\n",
    "        mod , val = g[predlistp]\n",
    "        mod2 , val2 = g[str(predlist)]\n",
    "        val.reset()\n",
    "        val2.reset()\n",
    "        valsp1.append(optimiser.validate(mod,val)[1]\n",
    "                      - optimiser.validate(mod2,val2)[1])\n",
    "\n",
    "sum(valsp1) / len(valsp1)"
   ]
  },
  {
   "cell_type": "code",
   "execution_count": null,
   "metadata": {
    "collapsed": true
   },
   "outputs": [],
   "source": []
  }
 ],
 "metadata": {
  "kernelspec": {
   "display_name": "Python 2",
   "language": "python",
   "name": "python2"
  },
  "language_info": {
   "codemirror_mode": {
    "name": "ipython",
    "version": 2
   },
   "file_extension": ".py",
   "mimetype": "text/x-python",
   "name": "python",
   "nbconvert_exporter": "python",
   "pygments_lexer": "ipython2",
   "version": "2.7.5+"
  }
 },
 "nbformat": 4,
 "nbformat_minor": 0
}
